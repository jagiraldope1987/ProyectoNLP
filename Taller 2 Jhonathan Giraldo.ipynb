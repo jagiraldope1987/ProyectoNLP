{
 "cells": [
  {
   "cell_type": "markdown",
   "metadata": {},
   "source": [
    "<img src='https://encrypted-tbn0.gstatic.com/images?q=tbn%3AANd9GcQ-VfNtOyJbsaxu43Kztf_cv1mgBG6ZIQZEVw&usqp=CAU'>\n",
    "\n",
    "# Procesamiento de Lenguage Natural\n",
    "\n",
    "## Taller #2: Adquisición de textos\n",
    "`Fecha de entrega: Agosto 29, 2020. (Antes del inicio de la próxima clase).`"
   ]
  },
  {
   "cell_type": "markdown",
   "metadata": {},
   "source": [
    "# Punto 1:\n",
    "\n",
    "- Descomprimir el archivo `.zip` de los poemas\n",
    "- Leer cada uno de sus archivos\n",
    "- Responder: ¿Cuál archivo tiene el mayor número de palabras?"
   ]
  },
  {
   "cell_type": "code",
   "execution_count": 1,
   "metadata": {},
   "outputs": [],
   "source": [
    "import os\n",
    "from zipfile import ZipFile\n",
    "import bs4 as bs\n",
    "import urllib.request"
   ]
  },
  {
   "cell_type": "code",
   "execution_count": 2,
   "metadata": {},
   "outputs": [],
   "source": [
    "direccion = \"archivos/poemas.zip\""
   ]
  },
  {
   "cell_type": "code",
   "execution_count": 3,
   "metadata": {},
   "outputs": [],
   "source": [
    "with ZipFile(direccion) as archivo:\n",
    "    archivo.extractall(\"archivos/\")"
   ]
  },
  {
   "cell_type": "code",
   "execution_count": 4,
   "metadata": {},
   "outputs": [
    {
     "name": "stdout",
     "output_type": "stream",
     "text": [
      "A un general (Julio Cortazar).txt\n",
      "A un general (Julio Corta╠üzar).txt\n",
      "Aqui (Octavio Paz).txt\n",
      "Aqui╠ü (Octavio Paz).txt\n",
      "Sindrome (Mario Benedetti).txt\n",
      "Si╠ündrome (Mario Benedetti).txt\n"
     ]
    }
   ],
   "source": [
    "for raiz, dirs, archivos in os.walk('archivos/poemas'):\n",
    "    for archivo in archivos:\n",
    "        print(archivo)"
   ]
  },
  {
   "cell_type": "code",
   "execution_count": 5,
   "metadata": {},
   "outputs": [
    {
     "name": "stdout",
     "output_type": "stream",
     "text": [
      "['RegiÃ³n', 'de', 'manos', 'sucias', 'de', 'pinceles', 'sin', 'pelo', 'de', 'niÃ±os', 'boca', 'abajo', 'de', 'cepillos', 'de', 'dientes', 'Zona', 'donde', 'la', 'rata', 'se', 'ennoblece', 'y', 'hay', 'banderas', 'innÃºmeras', 'y', 'cantan', 'himnos', 'y', 'alguien', 'te', 'prende,', 'hijo', 'de', 'puta,', 'una', 'medalla', 'sobre', 'el', 'pecho', 'Y', 'te', 'pudres', 'lo', 'mismo.']\n",
      "46\n"
     ]
    }
   ],
   "source": [
    "with open (\"archivos/poemas/A un general (Julio Cortazar).txt\") as archivo1:\n",
    "    archivo1 = archivo1.read()\n",
    "    print(archivo1.split())\n",
    "    print(len(archivo1.split()))"
   ]
  },
  {
   "cell_type": "code",
   "execution_count": 6,
   "metadata": {},
   "outputs": [
    {
     "name": "stdout",
     "output_type": "stream",
     "text": [
      "['Mis', 'pasos', 'en', 'esta', 'calle', 'Resuenan', 'En', 'otra', 'calle', 'Donde', 'Oigo', 'mis', 'pasos', 'Pasar', 'en', 'esta', 'calle', 'Donde', 'SÃ³lo', 'es', 'real', 'la', 'niebla.']\n",
      "23\n"
     ]
    }
   ],
   "source": [
    "with open (\"archivos/poemas/Aqui (Octavio Paz).txt\") as archivo2:\n",
    "    archivo2 = archivo2.read()\n",
    "    print(archivo2.split())\n",
    "    print(len(archivo2.split()))"
   ]
  },
  {
   "cell_type": "code",
   "execution_count": 7,
   "metadata": {},
   "outputs": [
    {
     "name": "stdout",
     "output_type": "stream",
     "text": [
      "['Mis', 'pasos', 'en', 'esta', 'calle', 'Resuenan', 'En', 'otra', 'calle', 'Donde', 'Oigo', 'mis', 'pasos', 'Pasar', 'en', 'esta', 'calle', 'Donde', 'SÃ³lo', 'es', 'real', 'la', 'niebla.']\n",
      "23\n"
     ]
    }
   ],
   "source": [
    "with open (\"archivos/poemas/Sindrome (Mario Benedetti).txt\") as archivo3:\n",
    "    archivo3 = archivo3.read()\n",
    "    print(archivo2.split())\n",
    "    print(len(archivo2.split()))"
   ]
  },
  {
   "cell_type": "markdown",
   "metadata": {},
   "source": [
    "### Respuesta :\n",
    "#### se puede concluir que el archivo 3 es el que tiene mayor número de palabras"
   ]
  },
  {
   "cell_type": "markdown",
   "metadata": {},
   "source": [
    "# Punto 2:\n",
    "\n",
    "- Hacer Web Scraping de 10 biografías en Wikipedia (en búcle)\n",
    "- Obtener el **encabezado** de cada biografía\n",
    "- Obtener todos los **contenidos** y **etiquetas de título** asociados a los **links** del primer párrafo"
   ]
  },
  {
   "cell_type": "markdown",
   "metadata": {},
   "source": [
    "<img src='img/carlsagan.png'>"
   ]
  },
  {
   "cell_type": "code",
   "execution_count": 8,
   "metadata": {},
   "outputs": [],
   "source": [
    "# Encabezado, no título"
   ]
  },
  {
   "cell_type": "code",
   "execution_count": null,
   "metadata": {},
   "outputs": [],
   "source": []
  },
  {
   "cell_type": "code",
   "execution_count": 9,
   "metadata": {
    "scrolled": false
   },
   "outputs": [
    {
     "data": {
      "text/plain": [
       "['https://es.wikipedia.org/wiki/Lionel_Messi',\n",
       " 'https://es.wikipedia.org/wiki/Alan_Turing',\n",
       " 'https://es.wikipedia.org/wiki/Nikola_Tesla',\n",
       " 'https://es.wikipedia.org/wiki/Muhammad_Ali',\n",
       " 'https://es.wikipedia.org/wiki/Ronaldinho',\n",
       " 'https://es.wikipedia.org/wiki/Manu_Chao',\n",
       " 'https://es.wikipedia.org/wiki/Gustavo_Cerati',\n",
       " 'https://es.wikipedia.org/wiki/Metallica',\n",
       " 'https://es.wikipedia.org/wiki/Keanu_Reeves',\n",
       " 'https://es.wikipedia.org/wiki/Bill_Gates']"
      ]
     },
     "execution_count": 9,
     "metadata": {},
     "output_type": "execute_result"
    }
   ],
   "source": [
    "links = [\"https://es.wikipedia.org/wiki/Lionel_Messi\",\"https://es.wikipedia.org/wiki/Alan_Turing\",\"https://es.wikipedia.org/wiki/Nikola_Tesla\",\n",
    "\"https://es.wikipedia.org/wiki/Muhammad_Ali\",\n",
    "\"https://es.wikipedia.org/wiki/Ronaldinho\",\n",
    "\"https://es.wikipedia.org/wiki/Manu_Chao\",\n",
    "\"https://es.wikipedia.org/wiki/Gustavo_Cerati\",\n",
    "\"https://es.wikipedia.org/wiki/Metallica\",\n",
    "\"https://es.wikipedia.org/wiki/Keanu_Reeves\",\n",
    "\"https://es.wikipedia.org/wiki/Bill_Gates\"]\n",
    "links"
   ]
  },
  {
   "cell_type": "code",
   "execution_count": null,
   "metadata": {},
   "outputs": [],
   "source": [
    "for n in links:\n",
    "    request = urllib.request.urlopen(n)\n",
    "    fuente = request.read()+fuente\n",
    "    request.close()\n",
    "    link =bs.BeautifulSoup(fuente,'html.parser')\n",
    "    encabezados = link.find('head')"
   ]
  },
  {
   "cell_type": "code",
   "execution_count": 27,
   "metadata": {
    "scrolled": true
   },
   "outputs": [
    {
     "data": {
      "text/plain": [
       "<head>\n",
       "<meta charset=\"utf-8\"/>\n",
       "<title>Bill Gates - Wikipedia, la enciclopedia libre</title>\n",
       "<script>document.documentElement.className=\"client-js\";RLCONF={\"wgBreakFrames\":!1,\"wgSeparatorTransformTable\":[\",\\t.\",\" \\t,\"],\"wgDigitTransformTable\":[\"\",\"\"],\"wgDefaultDateFormat\":\"dmy\",\"wgMonthNames\":[\"\",\"enero\",\"febrero\",\"marzo\",\"abril\",\"mayo\",\"junio\",\"julio\",\"agosto\",\"septiembre\",\"octubre\",\"noviembre\",\"diciembre\"],\"wgRequestId\":\"8e0cf61d-befd-4754-b263-4091a7f4a134\",\"wgCSPNonce\":!1,\"wgCanonicalNamespace\":\"\",\"wgCanonicalSpecialPageName\":!1,\"wgNamespaceNumber\":0,\"wgPageName\":\"Bill_Gates\",\"wgTitle\":\"Bill Gates\",\"wgCurRevisionId\":128661951,\"wgRevisionId\":128661951,\"wgArticleId\":375,\"wgIsArticle\":!0,\"wgIsRedirect\":!1,\"wgAction\":\"view\",\"wgUserName\":null,\"wgUserGroups\":[\"*\"],\"wgCategories\":[\"Wikipedia:Páginas con plantillas con argumentos duplicados\",\"Wikipedia:Artículos buenos en la Wikipedia en inglés\",\"Wikipedia:Artículos con pasajes que requieren referencias\",\"Wikipedia:Artículos con identificadores VIAF\",\"Wikipedia:Artículos con identificadores ISNI\",\n",
       "\"Wikipedia:Artículos con identificadores BNE\",\"Wikipedia:Artículos con identificadores BNF\",\"Wikipedia:Artículos con identificadores BNC\",\"Wikipedia:Artículos con identificadores GND\",\"Wikipedia:Artículos con identificadores LCCN\",\"Wikipedia:Artículos con identificadores NLA\",\"Wikipedia:Artículos con identificadores SNAC\",\"Wikipedia:Artículos con identificadores ULAN\",\"Wikipedia:Artículos con identificadores BIBSYS\",\"Wikipedia:Artículos con identificadores UB\",\"Wikipedia:Artículos con identificadores Open Library\",\"Wikipedia:Control de autoridades con 22 elementos\",\"Personas vivas\",\"Hombres\",\"Nacidos en 1955\",\"Seatleitas\",\"Empresarios de Estados Unidos\",\"Informáticos de Estados Unidos\",\"Filántropos de Estados Unidos\",\"Premio Príncipe de Asturias de Cooperación Internacional\",\"Empleados de Microsoft\",\"Caballeros comendadores de honor de la Orden del Imperio Británico\",\"Orden del Águila Azteca\",\"Magnates\",\"Alumnado de la Universidad de Harvard\",\"Historia de Microsoft\",\n",
       "\"Historia de la informática\",\"Directivos de Microsoft\",\"Graduados honorarios de la Universidad de Cambridge\",\"Doctores honoris causa por la Universidad de Edimburgo\",\"Zurdos\",\"Emprendedores\"],\"wgPageContentLanguage\":\"es\",\"wgPageContentModel\":\"wikitext\",\"wgRelevantPageName\":\"Bill_Gates\",\"wgRelevantArticleId\":375,\"wgIsProbablyEditable\":!1,\"wgRelevantPageIsProbablyEditable\":!1,\"wgRestrictionEdit\":[\"autoconfirmed\"],\"wgRestrictionMove\":[\"autoconfirmed\"],\"wgMediaViewerOnClick\":!0,\"wgMediaViewerEnabledByDefault\":!0,\"wgPopupsReferencePreviews\":!1,\"wgPopupsConflictsWithNavPopupGadget\":!1,\"wgVisualEditor\":{\"pageLanguageCode\":\"es\",\"pageLanguageDir\":\"ltr\",\"pageVariantFallbacks\":\"es\"},\"wgMFDisplayWikibaseDescriptions\":{\"search\":!0,\"nearby\":!0,\"watchlist\":!0,\"tagline\":!0},\"wgWMESchemaEditAttemptStepOversample\":!1,\"wgULSCurrentAutonym\":\"español\",\"wgNoticeProject\":\"wikipedia\",\"wgCentralAuthMobileDomain\":!1,\"wgEditSubmitButtonLabelPublish\":!0,\"wgULSPosition\":\n",
       "\"interlanguage\",\"wgWikibaseItemId\":\"Q5284\"};RLSTATE={\"ext.gadget.imagenesinfobox\":\"ready\",\"ext.globalCssJs.user.styles\":\"ready\",\"site.styles\":\"ready\",\"noscript\":\"ready\",\"user.styles\":\"ready\",\"ext.globalCssJs.user\":\"ready\",\"user\":\"ready\",\"user.options\":\"loading\",\"ext.cite.styles\":\"ready\",\"skins.vector.styles.legacy\":\"ready\",\"mediawiki.toc.styles\":\"ready\",\"ext.visualEditor.desktopArticleTarget.noscript\":\"ready\",\"ext.uls.interlanguage\":\"ready\",\"ext.wikimediaBadges\":\"ready\",\"wikibase.client.init\":\"ready\"};RLPAGEMODULES=[\"ext.cite.ux-enhancements\",\"ext.scribunto.logs\",\"site\",\"mediawiki.page.ready\",\"mediawiki.toc\",\"skins.vector.legacy.js\",\"ext.gadget.a-commons-directo\",\"ext.gadget.ReferenceTooltips\",\"ext.gadget.refToolbar\",\"ext.centralauth.centralautologin\",\"mmv.head\",\"mmv.bootstrap.autostart\",\"ext.popups\",\"ext.visualEditor.desktopArticleTarget.init\",\"ext.visualEditor.targetLoader\",\"ext.eventLogging\",\"ext.wikimediaEvents\",\"ext.navigationTiming\",\"ext.uls.compactlinks\",\"ext.uls.interface\",\n",
       "\"ext.cx.eventlogging.campaigns\",\"ext.quicksurveys.init\",\"ext.centralNotice.geoIP\",\"ext.centralNotice.startUp\"];</script>\n",
       "<script>(RLQ=window.RLQ||[]).push(function(){mw.loader.implement(\"user.options@1hzgi\",function($,jQuery,require,module){/*@nomin*/mw.user.tokens.set({\"patrolToken\":\"+\\\\\",\"watchToken\":\"+\\\\\",\"csrfToken\":\"+\\\\\"});mw.user.options.set({\"variant\":\"es\"});\n",
       "});});</script>\n",
       "<link href=\"/w/load.php?lang=es&amp;modules=ext.cite.styles%7Cext.uls.interlanguage%7Cext.visualEditor.desktopArticleTarget.noscript%7Cext.wikimediaBadges%7Cmediawiki.toc.styles%7Cskins.vector.styles.legacy%7Cwikibase.client.init&amp;only=styles&amp;skin=vector\" rel=\"stylesheet\"/>\n",
       "<script async=\"\" src=\"/w/load.php?lang=es&amp;modules=startup&amp;only=scripts&amp;raw=1&amp;skin=vector\"></script>\n",
       "<meta content=\"\" name=\"ResourceLoaderDynamicStyles\"/>\n",
       "<link href=\"/w/load.php?lang=es&amp;modules=ext.gadget.imagenesinfobox&amp;only=styles&amp;skin=vector\" rel=\"stylesheet\"/>\n",
       "<link href=\"/w/load.php?lang=es&amp;modules=site.styles&amp;only=styles&amp;skin=vector\" rel=\"stylesheet\"/>\n",
       "<noscript><link href=\"/w/load.php?lang=es&amp;modules=noscript&amp;only=styles&amp;skin=vector\" rel=\"stylesheet\"/></noscript>\n",
       "<meta content=\"MediaWiki 1.36.0-wmf.5\" name=\"generator\"/>\n",
       "<meta content=\"origin\" name=\"referrer\"/>\n",
       "<meta content=\"origin-when-crossorigin\" name=\"referrer\"/>\n",
       "<meta content=\"origin-when-cross-origin\" name=\"referrer\"/>\n",
       "<meta content=\"https://upload.wikimedia.org/wikipedia/commons/5/5c/Bill_Gates_June_2015.png\" property=\"og:image\"/>\n",
       "<link href=\"//es.m.wikipedia.org/wiki/Bill_Gates\" media=\"only screen and (max-width: 720px)\" rel=\"alternate\"/>\n",
       "<link href=\"/static/apple-touch/wikipedia.png\" rel=\"apple-touch-icon\"/>\n",
       "<link href=\"/static/favicon/wikipedia.ico\" rel=\"shortcut icon\"/>\n",
       "<link href=\"/w/opensearch_desc.php\" rel=\"search\" title=\"Wikipedia (es)\" type=\"application/opensearchdescription+xml\"/>\n",
       "<link href=\"//es.wikipedia.org/w/api.php?action=rsd\" rel=\"EditURI\" type=\"application/rsd+xml\"/>\n",
       "<link href=\"//creativecommons.org/licenses/by-sa/3.0/\" rel=\"license\"/>\n",
       "<link href=\"https://es.wikipedia.org/wiki/Bill_Gates\" rel=\"canonical\"/>\n",
       "<link href=\"//login.wikimedia.org\" rel=\"dns-prefetch\"/>\n",
       "<link href=\"//meta.wikimedia.org\" rel=\"dns-prefetch\"/>\n",
       "</head>"
      ]
     },
     "execution_count": 27,
     "metadata": {},
     "output_type": "execute_result"
    }
   ],
   "source": [
    "encabezados"
   ]
  },
  {
   "cell_type": "code",
   "execution_count": null,
   "metadata": {},
   "outputs": [],
   "source": []
  }
 ],
 "metadata": {
  "kernelspec": {
   "display_name": "Python 3",
   "language": "python",
   "name": "python3"
  },
  "language_info": {
   "codemirror_mode": {
    "name": "ipython",
    "version": 3
   },
   "file_extension": ".py",
   "mimetype": "text/x-python",
   "name": "python",
   "nbconvert_exporter": "python",
   "pygments_lexer": "ipython3",
   "version": "3.7.6"
  }
 },
 "nbformat": 4,
 "nbformat_minor": 2
}
