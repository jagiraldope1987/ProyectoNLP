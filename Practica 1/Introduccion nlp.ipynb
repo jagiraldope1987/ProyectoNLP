{
 "cells": [
  {
   "cell_type": "code",
   "execution_count": 78,
   "metadata": {},
   "outputs": [],
   "source": [
    "import pandas as pd"
   ]
  },
  {
   "cell_type": "code",
   "execution_count": 79,
   "metadata": {},
   "outputs": [],
   "source": [
    "data = pd.read_csv(\"C:/Users/jagir/OneDrive/Konrad/NPL/ProyectoNLP/Taller1NLP.csv\", delimiter=';')"
   ]
  },
  {
   "cell_type": "code",
   "execution_count": 80,
   "metadata": {},
   "outputs": [
    {
     "data": {
      "text/html": [
       "<div>\n",
       "<style scoped>\n",
       "    .dataframe tbody tr th:only-of-type {\n",
       "        vertical-align: middle;\n",
       "    }\n",
       "\n",
       "    .dataframe tbody tr th {\n",
       "        vertical-align: top;\n",
       "    }\n",
       "\n",
       "    .dataframe thead th {\n",
       "        text-align: right;\n",
       "    }\n",
       "</style>\n",
       "<table border=\"1\" class=\"dataframe\">\n",
       "  <thead>\n",
       "    <tr style=\"text-align: right;\">\n",
       "      <th></th>\n",
       "      <th>#</th>\n",
       "      <th>Nombre</th>\n",
       "      <th>¿Por qué estás estudiando análitica estratégica de datos?</th>\n",
       "      <th>Sistema Operativo</th>\n",
       "    </tr>\n",
       "  </thead>\n",
       "  <tbody>\n",
       "    <tr>\n",
       "      <th>0</th>\n",
       "      <td>1</td>\n",
       "      <td>Viviana Márquez</td>\n",
       "      <td>Me gustan mucho las matemáticas, la programaci...</td>\n",
       "      <td>macOSx</td>\n",
       "    </tr>\n",
       "    <tr>\n",
       "      <th>1</th>\n",
       "      <td>2</td>\n",
       "      <td>Jorge Gomez</td>\n",
       "      <td>Desarrollo profesional y proyecto personal.</td>\n",
       "      <td>Windows x64</td>\n",
       "    </tr>\n",
       "    <tr>\n",
       "      <th>2</th>\n",
       "      <td>3</td>\n",
       "      <td>Ilvar Dario Sanabria</td>\n",
       "      <td>Muchas de las decisiones se basan en datos y c...</td>\n",
       "      <td>Windows x64</td>\n",
       "    </tr>\n",
       "    <tr>\n",
       "      <th>3</th>\n",
       "      <td>4</td>\n",
       "      <td>Camilo Rojas</td>\n",
       "      <td>Trabajo con temas relacionados a gestión de in...</td>\n",
       "      <td>Windows x64</td>\n",
       "    </tr>\n",
       "    <tr>\n",
       "      <th>4</th>\n",
       "      <td>5</td>\n",
       "      <td>Xiomy Díaz</td>\n",
       "      <td>En mi experiencia en investigación de mercados...</td>\n",
       "      <td>Windows x64</td>\n",
       "    </tr>\n",
       "  </tbody>\n",
       "</table>\n",
       "</div>"
      ],
      "text/plain": [
       "   #                 Nombre  \\\n",
       "0   1       Viviana Márquez   \n",
       "1   2           Jorge Gomez   \n",
       "2   3  Ilvar Dario Sanabria   \n",
       "3   4          Camilo Rojas   \n",
       "4   5            Xiomy Díaz   \n",
       "\n",
       "  ¿Por qué estás estudiando análitica estratégica de datos? Sistema Operativo  \n",
       "0  Me gustan mucho las matemáticas, la programaci...                   macOSx  \n",
       "1        Desarrollo profesional y proyecto personal.              Windows x64  \n",
       "2  Muchas de las decisiones se basan en datos y c...              Windows x64  \n",
       "3  Trabajo con temas relacionados a gestión de in...              Windows x64  \n",
       "4  En mi experiencia en investigación de mercados...              Windows x64  "
      ]
     },
     "execution_count": 80,
     "metadata": {},
     "output_type": "execute_result"
    }
   ],
   "source": [
    "data.head(5)"
   ]
  },
  {
   "cell_type": "code",
   "execution_count": 81,
   "metadata": {},
   "outputs": [],
   "source": [
    "palabras = data[\"¿Por qué estás estudiando análitica estratégica de datos?\"]"
   ]
  },
  {
   "cell_type": "code",
   "execution_count": 82,
   "metadata": {},
   "outputs": [
    {
     "data": {
      "text/plain": [
       "31"
      ]
     },
     "execution_count": 82,
     "metadata": {},
     "output_type": "execute_result"
    }
   ],
   "source": [
    "len(palabras)"
   ]
  },
  {
   "cell_type": "code",
   "execution_count": 104,
   "metadata": {},
   "outputs": [
    {
     "name": "stdout",
     "output_type": "stream",
     "text": [
      "['Me', 'gustan', 'mucho', 'las', 'matemáticas,', 'la', 'programación', 'y', 'la', 'comunicación.', 'Pienso', 'que', 'la', 'ciencia', 'de', 'datos', 'es', 'una', 'buena', 'mezcla', 'entre', 'esas', 'tres', 'áreas.']\n",
      "['Desarrollo', 'profesional', 'y', 'proyecto', 'personal.']\n",
      "['Muchas', 'de', 'las', 'decisiones', 'se', 'basan', 'en', 'datos', 'y', 'creo', 'que', 'nos', 'aportan', 'mucho', 'tanto', 'en', 'lo', 'personal', 'como', 'en', 'lo', 'profesional']\n",
      "['Trabajo', 'con', 'temas', 'relacionados', 'a', 'gestión', 'de', 'información', 'y', 'estoy', 'interesado', 'en', 'aprender', 'a', 'utilizar', 'herramientas', 'que', 'faciliten', 'la', 'toma', 'de', 'decisiones', 'en', 'mi', 'lugar', 'de', 'trabajo.']\n",
      "['En', 'mi', 'experiencia', 'en', 'investigación', 'de', 'mercados', 'y', 'mercadeo', 'empecé', 'a', 'descubrir', 'el', 'mundo', 'de', 'la', 'analítica', 'y', 'me', 'apasiona', 'saber', 'que', 'podemos', 'usar', 'los', 'avances', 'tecnológicos', 'y', 'la', 'gran', 'cantidad', 'de', 'datos', 'que', 'hay,', 'para', 'entender', 'mejor', 'a', 'los', 'clientes', 'y', 'desarrollar', 'proyectos', 'que', 'ayuden', 'a', 'facilitar', 'los', 'procesos', 'en', 'las', 'organizaciones,', 'además', 'es', 'útil', 'en', 'mi', 'trabajo', 'como', 'analista', 'de', 'investigación', 'digital']\n",
      "['Me', 'gustan', 'mucho', 'los', 'datos', 'y', 'quiero', 'aprenden', 'como', 'aprovecharlos', 'al', 'maximo']\n",
      "['Me', 'encuentro', 'interesado', 'en', 'aprender', 'diferentes', 'métodos,', 'metodologías,', 'lenguajes', 'y', 'demás', 'para', 'convertirme', 'en', 'un', 'Científico', 'de', 'Datos']\n",
      "['En', 'mi', 'carrera', 'profesional', 'es', 'muy', 'útil', 'y', 'porque', 'el', 'manejo', 'de', 'la', 'información', 'día', 'a', 'día', 'genera', 'mucho', 'interes', 'y', 'mucho', 'valor', 'en', 'todo.', 'Quiero', 'aprender', 'mucho', 'de', 'herramientas', 'y', 'temas', 'al', 'respecto.']\n",
      "['Quiero', 'crear', 'productos', 'digitales', 'de', 'alto', 'impacto,', 'que', 'solucionen', 'problemas', 'y', 'sean', 'rentables.', 'Me', 'gusta', 'programar', 'en', 'python']\n",
      "['Porder', 'aplicar', 'mis', 'conocimientos', 'a', 'mi', 'labor', 'profesional', 'en', 'analitica', 'web', ',', 'creando', 'modelos', 'de', 'recomendación', 'y', 'personalizacion', 'para', 'las', 'paginas', 'web', '(contenidos', '-', 'ecommerce', '-', 'apps)']\n",
      "['Trabajo', 'con', 'altos', 'volúmenes', 'de', 'información', 'estructurada', 'y', 'no', 'estructurada', 'con', 'lo', 'que', 'mi', 'interés', 'es', 'generar', 'valor', 'a', 'la', 'compañía', 'y', 'a', 'los', 'sectores', 'de', 'interes', 'usando', 'herramientas', 'de', 'analitica', 'para', 'procesar', 'información', 'de', 'clientes,', 'ventas,', 'procesos', 'de', 'reclamación,', 'quejas,', 'contactos', 'con', 'bots', 'entre', 'otros.', 'Ademas', 'veo', 'que', 'es', 'un', 'complemento', 'interesante', 'con', 'otras', 'áreas', 'de', 'trabajo', 'entre', 'las', 'técnicas', 'y', 'humanas.']\n",
      "['Implementar', 'métodos', 'de', 'estudio', 'de', 'machine', 'learning', 'a', 'las', 'ciencias', 'sociales']\n",
      "['Estamos', 'en', 'contacto', 'permanente', 'con', 'los', 'datos', 'y', 'me', 'gusta', 'saber', 'cómo', 'hay', 'una', 'interacción', 'entre', 'ellos', 'y', 'cómo', 'pueden', 'tomarse', 'decisiones', 'basados', 'en', 'estos.']\n",
      "['Aprender', 'y', 'sacar', 'el', 'mejor', 'provecho', 'a', 'los', 'conocimientos', 'adquiridos']\n",
      "['Quiero', 'aprender', 'a', 'sacarle', 'provecho', 'a', 'los', 'datos', 'y', 'darles', 'un', 'valor', 'en', 'mi', 'vida', 'profesional', 'y', 'personal']\n",
      "['Aprender', 'nuevas', 'herramientas', 'y', 'saber', 'como', 'analizar', 'los', 'datos', 'para', 'la', 'toma', 'de', 'decisiones']\n",
      "['Generar', 'nuevos', 'conocimientos', 'en', 'herramientas', 'de', 'analitica', 'que', 'me', 'aporten', 'para', 'el', 'analisis', 'de', 'la', 'información', 'y', 'en', 'toma', 'de', 'decisiones', '.']\n",
      "['Por', 'la', 'gran', 'cantidad', 'de', 'datos', 'que', 'se', 'maneja', 'en', 'mi', 'ámbito', 'laboral,', 'y', 'por', 'el', 'reto', 'personal', 'que', 'para', 'mi', 'refleja', 'manejar', 'esos', 'datos']\n",
      "['El', 'mundo', 'actual', 'cuenta', 'con', 'grandes', 'volumenes', 'de', 'datos,', 'pero', 'ahora', 'es', 'tiempo', 'de', 'analizar', 'y', 'comprender', 'las', 'necesidades', 'de', 'cada', 'sector.']\n",
      "['Mi', 'interés', 'en', 'la', 'especialización', 'es', 'tener', 'un', 'conocimiento', 'más', 'amplio,', 'enfocado', 'y', 'profesional', 'para', 'la', 'manipulación', 'de', 'datos,', 'abarcando', 'desde', 'la', 'recolección,', 'procesamiento,', 'análisis', 'e', 'interpretación', 'para', 'el', 'usuario', 'final', 'cuyo', 'un', 'objetivo', 'fundamental', 'es', 'generar', 'valor', 'agregado', 'en', 'mis', 'reportes', 'para', 'una', 'óptima', 'toma', 'de', 'decisiones', 'que', 'beneficien', 'cualquier', 'plan', 'estratégico', 'en', 'las', 'empresas']\n",
      "['Por', 'complemento', 'profesional,', 'porque', 'la', 'analitica', 'es', 'bastante', 'valorada', 'en', 'el', 'mercado', 'laboral']\n",
      "['Considero', 'realmente', 'interesante', 'aprender', 'nuevas', 'herramientas', 'que', 'me', 'permitan', 'mejorar', 'a', 'nivel', 'profesional']\n",
      "['Me', 'gusta', 'mucho', 'el', 'analisis', 'de', 'datos,', 'en', 'especial', 'las', 'predicciones', 'y', 'analisis', 'de', 'texto', 'que', 'permitan', 'una', 'correcta', 'visualizacion', 'y', 'que', 'le', 'dé', 'valor', 'al', 'cliente']\n",
      "['Por', 'las', 'aplicaciones', 'que', 'hoy', 'en', 'día', 'tiene', 'en', 'la', 'industria.']\n",
      "['para', 'tener', 'un', 'crecimiento', 'personal', 'y', 'laboral']\n",
      "['Quiero', 'dedicarme', 'a', 'esto', 'el', 'resto', 'de', 'mi', 'vida', 'y', 'todos', 'estos', 'temas', 'me', 'sirven', 'para', 'poder', 'ir', 'alcanzando', 'mi', 'sueno']\n",
      "['Creo', 'que', 'los', 'datos', 'son', 'y', 'seran', 'cada', 'vez', 'mas', 'importantes,', 'asi', 'que', 'aprender', 'a', 'manipularlos', 'puede', 'ser', 'muy', 'util', 'para', 'mi', 'vida']\n",
      "['Me', 'gusta', 'la', 'analítica', 'de', 'datos', 'y', 'el', 'valor', 'que', 'aporta', 'actualmente', 'en', 'la', 'industria']\n",
      "['Me', 'parece', 'que', 'la', 'tecnología', 'es', 'lo', 'que', 'rige', 'el', 'mundo', 'actual', 'y', 'aprender', 'un', 'poco', 'del', 'comportamiento', 'de', 'las', 'personas', 'a', 'traves', 'de', 'los', 'datos', 'es', 'muy', 'interesante']\n",
      "['Aprender', 'de', 'nuevas', 'herramientas', 'para', 'el', 'análisis', 'y', 'procesamiento', 'de', 'datos']\n",
      "['Creo', 'que', 'es', 'el', 'futuro,', 'me', 'gusta', 'y', 'de', 'cerca', 'he', 'visto', 'el', 'impacto', 'positivo', 'que', 'genera', 'en', 'una', 'organización']\n"
     ]
    }
   ],
   "source": [
    "for n in data[\"¿Por qué estás estudiando análitica estratégica de datos?\"]:\n",
    "    print(n.split()) \n",
    "    "
   ]
  }
 ],
 "metadata": {
  "kernelspec": {
   "display_name": "Python 3",
   "language": "python",
   "name": "python3"
  },
  "language_info": {
   "codemirror_mode": {
    "name": "ipython",
    "version": 3
   },
   "file_extension": ".py",
   "mimetype": "text/x-python",
   "name": "python",
   "nbconvert_exporter": "python",
   "pygments_lexer": "ipython3",
   "version": "3.7.6"
  }
 },
 "nbformat": 4,
 "nbformat_minor": 4
}
